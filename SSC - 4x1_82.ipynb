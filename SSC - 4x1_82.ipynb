{
 "cells": [
  {
   "cell_type": "code",
   "execution_count": 16,
   "metadata": {
    "collapsed": true
   },
   "outputs": [],
   "source": [
    "import numpy as np\n",
    "import matplotlib.pyplot as plt\n",
    "import pandas as pd\n",
    "from numpy import random as rand\n",
    "from math import e\n",
    "from tqdm import tqdm\n",
    "from scipy import integrate\n",
    "import random"
   ]
  },
  {
   "cell_type": "code",
   "execution_count": 17,
   "metadata": {
    "collapsed": true
   },
   "outputs": [],
   "source": [
    "#v is a vector cointanining N elements, each of which has two variables: α and s (s = 0 for defection, s = 1 for cooperation)\n",
    "\n",
    "def game(v,macrosteps,pars):\n",
    "                 \n",
    "    N = len(v)\n",
    "    vec_a_mean=[]           #empty vector to be filled with the mean value of alpha at each for loop\n",
    "    vec_x=[]                #empty vector to be filled with the fraction of cooperators at each for loop\n",
    "    s1_vec=v[:,1]\n",
    "    a1_vec=v[:,0]     \n",
    "    T= -pars['p']*pars['cd']*(1-pars['d'])\n",
    "    P= -pars['p']*pars['cd']\n",
    "    \n",
    "    for t in macrosteps:\n",
    "        \n",
    "        v = np.transpose(np.array([a1_vec,s1_vec]))\n",
    "        amean = np.mean(v[:,0])                       #updated mean of alpha\n",
    "        vec_a_mean = np.append(vec_a_mean, amean)   \n",
    "        x = np.mean(v[:,1])                           #updated fraction of cooperators\n",
    "        vec_x = np.append(vec_x, x)        \n",
    "        cumulative_payoffs=[]  \n",
    "        pi = np.zeros(N)\n",
    "        s1_vec=[]\n",
    "        a1_vec=[]\n",
    "        \n",
    "        for player in range(N):\n",
    "            a1,s1 = v[player]\n",
    "            \n",
    "            R= -pars['p']*pars['cd']*(1-pars['e'])*(1-pars['d'])-(1-a1)*pars['cn']\n",
    "            S= -pars['p']*pars['cd']*(1-pars['e'])-(1-a1)*pars['cn']\n",
    "            \n",
    "            pp= s1*x*(N-1)*R + s1*(1-x)*N*S + (1-s1)*x*N*T + (1-s1)*(1-x)*(N-1)*P\n",
    "            \n",
    "            cumulative_payoffs = np.append(cumulative_payoffs,pp)\n",
    "                \n",
    "        for pos1 in range(N):\n",
    "            pos2 = random.choice(list(range(0,pos1)) + list(range(pos1+1,N)))\n",
    "            a1,s1 = v[pos1]                       #alpha,strategy of player 1\n",
    "            s2 = v[pos2][1]                       #strategy of player 2\n",
    "            \n",
    "            if s1==s2: \n",
    "                s1_new = s1\n",
    "            \n",
    "            else:\n",
    "                pi_1=cumulative_payoffs[pos1]\n",
    "                pi_2=cumulative_payoffs[pos2]\n",
    "                delta_pi = pi_2-pi_1              \n",
    "                prob = 1/(1+e**(-pars['beta']*delta_pi))\n",
    "                \n",
    "                s1_new = s2 if np.random.random() < prob else s1\n",
    "            \n",
    "            a1_new = a1 + pars['gamma']*(2*x-1)*a1*(1-a1)\n",
    "            a1_new = np.clip(a1_new, 0.001, 0.999)\n",
    "                \n",
    "            s1_vec=np.append(s1_vec,s1_new)\n",
    "            a1_vec=np.append(a1_vec,a1_new)\n",
    "        \n",
    "        if np.isin(s1_vec, 0).all() or np.isin(s1_vec, 1).all():\n",
    "            break\n",
    "        \n",
    "    return v, vec_x, vec_a_mean, np.mean(s1_vec), np.mean(a1_vec)"
   ]
  },
  {
   "cell_type": "code",
   "execution_count": null,
   "metadata": {},
   "outputs": [
    {
     "name": "stderr",
     "output_type": "stream",
     "text": [
      "Progress Bar: 100%|█████████████████████████████████████████████████████████████| 10000/10000 [00:44<00:00, 223.25it/s]\n",
      "Progress Bar: 100%|██████████████████████████████████████████████████████████████| 10000/10000 [07:10<00:00, 23.22it/s]\n",
      "Progress Bar: 100%|██████████████████████████████████████████████████████████████| 10000/10000 [05:18<00:00, 31.44it/s]\n",
      "Progress Bar: 100%|██████████████████████████████████████████████████████████████| 10000/10000 [03:42<00:00, 45.00it/s]\n",
      "Progress Bar: 100%|██████████████████████████████████████████████████████████████| 10000/10000 [03:42<00:00, 44.94it/s]\n",
      "Progress Bar: 100%|██████████████████████████████████████████████████████████████| 10000/10000 [03:15<00:00, 51.16it/s]\n",
      "Progress Bar: 100%|██████████████████████████████████████████████████████████████| 10000/10000 [03:01<00:00, 55.00it/s]\n",
      "Progress Bar: 100%|██████████████████████████████████████████████████████████████| 10000/10000 [02:43<00:00, 61.32it/s]\n",
      "Progress Bar: 100%|██████████████████████████████████████████████████████████████| 10000/10000 [02:24<00:00, 69.10it/s]\n",
      "Progress Bar: 100%|██████████████████████████████████████████████████████████████| 10000/10000 [02:17<00:00, 72.84it/s]\n",
      "Progress Bar: 100%|██████████████████████████████████████████████████████████████| 10000/10000 [02:11<00:00, 76.26it/s]\n",
      "Progress Bar: 100%|██████████████████████████████████████████████████████████████| 10000/10000 [01:57<00:00, 84.99it/s]\n",
      "Progress Bar: 100%|██████████████████████████████████████████████████████████████| 10000/10000 [01:50<00:00, 90.47it/s]\n",
      "Progress Bar: 100%|██████████████████████████████████████████████████████████████| 10000/10000 [01:42<00:00, 97.67it/s]\n",
      "Progress Bar:  12%|███████▎                                                      | 1176/10000 [00:10<01:19, 111.18it/s]"
     ]
    }
   ],
   "source": [
    "# Parameters\n",
    "pars={}         \n",
    "pars['p']=0.4\n",
    "pars['cd']=1\n",
    "pars['e']=0.9\n",
    "pars['d']=0.5\n",
    "pars['cn']=0.2\n",
    "pars['gamma']=1\n",
    "pars['beta']=1\n",
    "\n",
    "N=20   \n",
    "macrosteps = np.linspace(0,10000,10000)\n",
    "al = 0.2*np.ones(N)\n",
    "al[:10]= 0.8\n",
    "np.random.shuffle(al)\n",
    "f421_82_0=[]\n",
    "\n",
    "for c in range(21):\n",
    "    final_coop_vec=[]\n",
    "    \n",
    "    for i in tqdm(range(10000), desc = 'Progress Bar'):\n",
    "        n_coop=c                        #number of cooperators\n",
    "        nums = np.zeros(N)\n",
    "        nums[:n_coop] = 1\n",
    "        np.random.shuffle(nums)          #vector containing the strategies of the players (random vector of 1 and 0)\n",
    "        \n",
    "        v = np.transpose(np.array([al,nums]))\n",
    "        r = game(v,macrosteps,pars)\n",
    "        \n",
    "        final_coop_vec = np.append(final_coop_vec,r[3])\n",
    "        \n",
    "    f421_82_0 = np.append(f421_82_0,  final_coop_vec.mean())"
   ]
  },
  {
   "cell_type": "code",
   "execution_count": 21,
   "metadata": {},
   "outputs": [
    {
     "name": "stderr",
     "output_type": "stream",
     "text": [
      "Progress Bar: 100%|█████████████████████████████████████████████████████████████| 10000/10000 [00:24<00:00, 416.37it/s]\n",
      "Progress Bar: 100%|█████████████████████████████████████████████████████████████| 10000/10000 [01:28<00:00, 112.73it/s]\n",
      "Progress Bar: 100%|██████████████████████████████████████████████████████████████| 10000/10000 [02:21<00:00, 70.75it/s]\n",
      "Progress Bar: 100%|██████████████████████████████████████████████████████████████| 10000/10000 [02:37<00:00, 63.44it/s]\n",
      "Progress Bar:  80%|██████████████████████████████████████████████████▍            | 8009/10000 [02:39<00:39, 50.33it/s]\n"
     ]
    },
    {
     "ename": "KeyboardInterrupt",
     "evalue": "",
     "output_type": "error",
     "traceback": [
      "\u001b[1;31m---------------------------------------------------------------------------\u001b[0m",
      "\u001b[1;31mKeyboardInterrupt\u001b[0m                         Traceback (most recent call last)",
      "\u001b[1;32m<ipython-input-21-d4cba1b9af5e>\u001b[0m in \u001b[0;36m<module>\u001b[1;34m\u001b[0m\n\u001b[0;32m     26\u001b[0m \u001b[1;33m\u001b[0m\u001b[0m\n\u001b[0;32m     27\u001b[0m         \u001b[0mv\u001b[0m \u001b[1;33m=\u001b[0m \u001b[0mnp\u001b[0m\u001b[1;33m.\u001b[0m\u001b[0mtranspose\u001b[0m\u001b[1;33m(\u001b[0m\u001b[0mnp\u001b[0m\u001b[1;33m.\u001b[0m\u001b[0marray\u001b[0m\u001b[1;33m(\u001b[0m\u001b[1;33m[\u001b[0m\u001b[0mal\u001b[0m\u001b[1;33m,\u001b[0m\u001b[0mnums\u001b[0m\u001b[1;33m]\u001b[0m\u001b[1;33m)\u001b[0m\u001b[1;33m)\u001b[0m\u001b[1;33m\u001b[0m\u001b[0m\n\u001b[1;32m---> 28\u001b[1;33m         \u001b[0mr\u001b[0m \u001b[1;33m=\u001b[0m \u001b[0mgame\u001b[0m\u001b[1;33m(\u001b[0m\u001b[0mv\u001b[0m\u001b[1;33m,\u001b[0m\u001b[0mmacrosteps\u001b[0m\u001b[1;33m,\u001b[0m\u001b[0mpars\u001b[0m\u001b[1;33m)\u001b[0m\u001b[1;33m\u001b[0m\u001b[0m\n\u001b[0m\u001b[0;32m     29\u001b[0m \u001b[1;33m\u001b[0m\u001b[0m\n\u001b[0;32m     30\u001b[0m         \u001b[0mfinal_coop_vec\u001b[0m \u001b[1;33m=\u001b[0m \u001b[0mnp\u001b[0m\u001b[1;33m.\u001b[0m\u001b[0mappend\u001b[0m\u001b[1;33m(\u001b[0m\u001b[0mfinal_coop_vec\u001b[0m\u001b[1;33m,\u001b[0m\u001b[0mr\u001b[0m\u001b[1;33m[\u001b[0m\u001b[1;36m3\u001b[0m\u001b[1;33m]\u001b[0m\u001b[1;33m)\u001b[0m\u001b[1;33m\u001b[0m\u001b[0m\n",
      "\u001b[1;32m<ipython-input-17-d7b42e32e1d0>\u001b[0m in \u001b[0;36mgame\u001b[1;34m(v, macrosteps, pars)\u001b[0m\n\u001b[0;32m     53\u001b[0m \u001b[1;33m\u001b[0m\u001b[0m\n\u001b[0;32m     54\u001b[0m             \u001b[0ms1_vec\u001b[0m\u001b[1;33m=\u001b[0m\u001b[0mnp\u001b[0m\u001b[1;33m.\u001b[0m\u001b[0mappend\u001b[0m\u001b[1;33m(\u001b[0m\u001b[0ms1_vec\u001b[0m\u001b[1;33m,\u001b[0m\u001b[0ms1_new\u001b[0m\u001b[1;33m)\u001b[0m\u001b[1;33m\u001b[0m\u001b[0m\n\u001b[1;32m---> 55\u001b[1;33m             \u001b[0ma1_vec\u001b[0m\u001b[1;33m=\u001b[0m\u001b[0mnp\u001b[0m\u001b[1;33m.\u001b[0m\u001b[0mappend\u001b[0m\u001b[1;33m(\u001b[0m\u001b[0ma1_vec\u001b[0m\u001b[1;33m,\u001b[0m\u001b[0ma1_new\u001b[0m\u001b[1;33m)\u001b[0m\u001b[1;33m\u001b[0m\u001b[0m\n\u001b[0m\u001b[0;32m     56\u001b[0m \u001b[1;33m\u001b[0m\u001b[0m\n\u001b[0;32m     57\u001b[0m         \u001b[1;32mif\u001b[0m \u001b[0mnp\u001b[0m\u001b[1;33m.\u001b[0m\u001b[0misin\u001b[0m\u001b[1;33m(\u001b[0m\u001b[0ms1_vec\u001b[0m\u001b[1;33m,\u001b[0m \u001b[1;36m0\u001b[0m\u001b[1;33m)\u001b[0m\u001b[1;33m.\u001b[0m\u001b[0mall\u001b[0m\u001b[1;33m(\u001b[0m\u001b[1;33m)\u001b[0m \u001b[1;32mor\u001b[0m \u001b[0mnp\u001b[0m\u001b[1;33m.\u001b[0m\u001b[0misin\u001b[0m\u001b[1;33m(\u001b[0m\u001b[0ms1_vec\u001b[0m\u001b[1;33m,\u001b[0m \u001b[1;36m1\u001b[0m\u001b[1;33m)\u001b[0m\u001b[1;33m.\u001b[0m\u001b[0mall\u001b[0m\u001b[1;33m(\u001b[0m\u001b[1;33m)\u001b[0m\u001b[1;33m:\u001b[0m\u001b[1;33m\u001b[0m\u001b[0m\n",
      "\u001b[1;32m<__array_function__ internals>\u001b[0m in \u001b[0;36mappend\u001b[1;34m(*args, **kwargs)\u001b[0m\n",
      "\u001b[1;32m~\\Anaconda3\\lib\\site-packages\\numpy\\lib\\function_base.py\u001b[0m in \u001b[0;36mappend\u001b[1;34m(arr, values, axis)\u001b[0m\n\u001b[0;32m   4682\u001b[0m         \u001b[0mvalues\u001b[0m \u001b[1;33m=\u001b[0m \u001b[0mravel\u001b[0m\u001b[1;33m(\u001b[0m\u001b[0mvalues\u001b[0m\u001b[1;33m)\u001b[0m\u001b[1;33m\u001b[0m\u001b[0m\n\u001b[0;32m   4683\u001b[0m         \u001b[0maxis\u001b[0m \u001b[1;33m=\u001b[0m \u001b[0marr\u001b[0m\u001b[1;33m.\u001b[0m\u001b[0mndim\u001b[0m\u001b[1;33m-\u001b[0m\u001b[1;36m1\u001b[0m\u001b[1;33m\u001b[0m\u001b[0m\n\u001b[1;32m-> 4684\u001b[1;33m     \u001b[1;32mreturn\u001b[0m \u001b[0mconcatenate\u001b[0m\u001b[1;33m(\u001b[0m\u001b[1;33m(\u001b[0m\u001b[0marr\u001b[0m\u001b[1;33m,\u001b[0m \u001b[0mvalues\u001b[0m\u001b[1;33m)\u001b[0m\u001b[1;33m,\u001b[0m \u001b[0maxis\u001b[0m\u001b[1;33m=\u001b[0m\u001b[0maxis\u001b[0m\u001b[1;33m)\u001b[0m\u001b[1;33m\u001b[0m\u001b[0m\n\u001b[0m\u001b[0;32m   4685\u001b[0m \u001b[1;33m\u001b[0m\u001b[0m\n\u001b[0;32m   4686\u001b[0m \u001b[1;33m\u001b[0m\u001b[0m\n",
      "\u001b[1;32m<__array_function__ internals>\u001b[0m in \u001b[0;36mconcatenate\u001b[1;34m(*args, **kwargs)\u001b[0m\n",
      "\u001b[1;31mKeyboardInterrupt\u001b[0m: "
     ]
    }
   ],
   "source": [
    "# Parameters\n",
    "pars={}         \n",
    "pars['p']=0.4\n",
    "pars['cd']=1\n",
    "pars['e']=0.9\n",
    "pars['d']=0.5\n",
    "pars['cn']=0.5\n",
    "pars['gamma']=1\n",
    "pars['beta']=1\n",
    "\n",
    "N=20   \n",
    "macrosteps = np.linspace(0,10000,10000)\n",
    "al = 0.2*np.ones(N)\n",
    "al[:10]= 0.8\n",
    "np.random.shuffle(al)\n",
    "f451_82_0=[]\n",
    "\n",
    "for c in range(21):\n",
    "    final_coop_vec=[]\n",
    "    \n",
    "    for i in tqdm(range(10000), desc = 'Progress Bar'):\n",
    "        n_coop=c                        #number of cooperators\n",
    "        nums = np.zeros(N)\n",
    "        nums[:n_coop] = 1\n",
    "        np.random.shuffle(nums)          #vector containing the strategies of the players (random vector of 1 and 0)\n",
    "        \n",
    "        v = np.transpose(np.array([al,nums]))\n",
    "        r = game(v,macrosteps,pars)\n",
    "        \n",
    "        final_coop_vec = np.append(final_coop_vec,r[3])\n",
    "        \n",
    "    f451_82_0 = np.append(f451_82_0,  final_coop_vec.mean())"
   ]
  },
  {
   "cell_type": "code",
   "execution_count": null,
   "metadata": {},
   "outputs": [
    {
     "name": "stderr",
     "output_type": "stream",
     "text": [
      "Progress Bar: 100%|██████████████████████████████████████████████████████████████| 10000/10000 [03:33<00:00, 46.90it/s]\n",
      "Progress Bar: 100%|██████████████████████████████████████████████████████████████| 10000/10000 [04:44<00:00, 35.13it/s]\n",
      "Progress Bar: 100%|██████████████████████████████████████████████████████████████| 10000/10000 [04:08<00:00, 40.20it/s]\n",
      "Progress Bar: 100%|██████████████████████████████████████████████████████████████| 10000/10000 [03:44<00:00, 44.50it/s]\n",
      "Progress Bar: 100%|██████████████████████████████████████████████████████████████| 10000/10000 [03:23<00:00, 49.15it/s]\n",
      "Progress Bar: 100%|██████████████████████████████████████████████████████████████| 10000/10000 [03:04<00:00, 54.07it/s]\n",
      "Progress Bar: 100%|██████████████████████████████████████████████████████████████| 10000/10000 [02:45<00:00, 60.34it/s]\n",
      "Progress Bar: 100%|██████████████████████████████████████████████████████████████| 10000/10000 [02:29<00:00, 67.08it/s]\n",
      "Progress Bar: 100%|██████████████████████████████████████████████████████████████| 10000/10000 [02:03<00:00, 80.85it/s]\n",
      "Progress Bar: 100%|█████████████████████████████████████████████████████████████| 10000/10000 [01:33<00:00, 107.18it/s]\n",
      "Progress Bar: 100%|█████████████████████████████████████████████████████████████| 10000/10000 [00:27<00:00, 369.10it/s]\n"
     ]
    }
   ],
   "source": [
    "# Parameters\n",
    "pars={}         \n",
    "pars['p']=0.4\n",
    "pars['cd']=1\n",
    "pars['e']=0.9\n",
    "pars['d']=0.5\n",
    "pars['cn']=0.75\n",
    "pars['gamma']=1\n",
    "pars['beta']=1\n",
    "\n",
    "N=20   \n",
    "macrosteps = np.linspace(0,10000,10000)\n",
    "al = 0.2*np.ones(N)\n",
    "al[:10]= 0.8\n",
    "np.random.shuffle(al)\n",
    "f4751_82_0=[]\n",
    "\n",
    "for c in range(21):\n",
    "    final_coop_vec=[]\n",
    "    \n",
    "    for i in tqdm(range(10000), desc = 'Progress Bar'):\n",
    "        n_coop=c                        #number of cooperators\n",
    "        nums = np.zeros(N)\n",
    "        nums[:n_coop] = 1\n",
    "        np.random.shuffle(nums)          #vector containing the strategies of the players (random vector of 1 and 0)\n",
    "        \n",
    "        v = np.transpose(np.array([al,nums]))\n",
    "        r = game(v,macrosteps,pars)\n",
    "        \n",
    "        final_coop_vec = np.append(final_coop_vec,r[3])\n",
    "        \n",
    "    f4751_82_0 = np.append(f4751_82_0,  final_coop_vec.mean())"
   ]
  },
  {
   "cell_type": "code",
   "execution_count": null,
   "metadata": {},
   "outputs": [],
   "source": [
    "# p=0.4  cn=0.2   al = 0.2 , 0.8\n",
    "\n",
    "fig1,ax = plt.figure(figsize=(5, 5)), plt.axes()\n",
    "plt.plot(np.arange(21),f421_82_0,linewidth=2)\n",
    "plt.xlabel('Initial number of cooperators',fontsize=20)\n",
    "plt.ylabel('Fixation probability',fontsize=20)\n",
    "ax.tick_params(labelsize=15)\n",
    "plt.show()"
   ]
  },
  {
   "cell_type": "code",
   "execution_count": null,
   "metadata": {
    "collapsed": true
   },
   "outputs": [],
   "source": [
    "# p=0.4  cn=0.2   al = 0.2 , 0.8\n",
    "\n",
    "fig1,ax = plt.figure(figsize=(5, 5)), plt.axes()\n",
    "plt.plot(np.arange(21),f451_82_0,linewidth=2)\n",
    "plt.xlabel('Initial number of cooperators',fontsize=20)\n",
    "plt.ylabel('Fixation probability',fontsize=20)\n",
    "ax.tick_params(labelsize=15)\n",
    "plt.show()"
   ]
  },
  {
   "cell_type": "code",
   "execution_count": null,
   "metadata": {
    "collapsed": true
   },
   "outputs": [],
   "source": [
    "# p=0.4  cn=0.2   al = 0.2 , 0.8\n",
    "\n",
    "fig1,ax = plt.figure(figsize=(5, 5)), plt.axes()\n",
    "plt.plot(np.arange(21),f4751_82_0,linewidth=2)\n",
    "plt.xlabel('Initial number of cooperators',fontsize=20)\n",
    "plt.ylabel('Fixation probability',fontsize=20)\n",
    "ax.tick_params(labelsize=15)\n",
    "plt.show()"
   ]
  },
  {
   "cell_type": "code",
   "execution_count": null,
   "metadata": {
    "collapsed": true
   },
   "outputs": [],
   "source": [
    "np.savetxt('f421_82_0.txt',f421_82_0)\n",
    "np.savetxt('f451_82_0.txt',f451_82_0)\n",
    "np.savetxt('f4751_82_0.txt',f4751_82_0)"
   ]
  },
  {
   "cell_type": "code",
   "execution_count": null,
   "metadata": {
    "collapsed": true
   },
   "outputs": [],
   "source": [
    "fig1,ax = plt.figure(figsize=(5, 5)), plt.axes()\n",
    "plt.plot(np.arange(21),f421_82_0,linewidth=2, label='cn=0.2')\n",
    "plt.plot(np.arange(21),f451_82_0,linewidth=2, label='cn=0.5')\n",
    "plt.plot(np.arange(21),f4751_82_0,linewidth=2, label='cn=0.75')\n",
    "plt.legend()\n",
    "plt.xlabel('Initial number of cooperators',fontsize=20)\n",
    "plt.ylabel('Fixation probability',fontsize=20)\n",
    "plt.title('beta=1, alpha= 0.2, 0.8')\n",
    "ax.tick_params(labelsize=15)\n",
    "plt.show()"
   ]
  },
  {
   "cell_type": "code",
   "execution_count": null,
   "metadata": {
    "collapsed": true
   },
   "outputs": [],
   "source": []
  }
 ],
 "metadata": {
  "kernelspec": {
   "display_name": "Python 3",
   "language": "python",
   "name": "python3"
  },
  "language_info": {
   "codemirror_mode": {
    "name": "ipython",
    "version": 3
   },
   "file_extension": ".py",
   "mimetype": "text/x-python",
   "name": "python",
   "nbconvert_exporter": "python",
   "pygments_lexer": "ipython3",
   "version": "3.6.3"
  }
 },
 "nbformat": 4,
 "nbformat_minor": 2
}
