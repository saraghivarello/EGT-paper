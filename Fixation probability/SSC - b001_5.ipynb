{
 "cells": [
  {
   "cell_type": "code",
   "execution_count": 1,
   "metadata": {
    "collapsed": true
   },
   "outputs": [],
   "source": [
    "import numpy as np\n",
    "import matplotlib.pyplot as plt\n",
    "import pandas as pd\n",
    "from numpy import random as rand\n",
    "from math import e\n",
    "from tqdm import tqdm\n",
    "from scipy import integrate\n",
    "import random"
   ]
  },
  {
   "cell_type": "code",
   "execution_count": null,
   "metadata": {
    "collapsed": true
   },
   "outputs": [],
   "source": [
    "#v is a vector cointanining N elements, each of which has two variables: α and s (s = 0 for defection, s = 1 for cooperation)\n",
    "\n",
    "def game(v,macrosteps,pars):\n",
    "                 \n",
    "    N = len(v)\n",
    "    vec_a_mean=[]           #empty vector to be filled with the mean value of alpha at each for loop\n",
    "    vec_x=[]                #empty vector to be filled with the fraction of cooperators at each for loop\n",
    "    s1_vec=v[:,1]\n",
    "    a1_vec=v[:,0]     \n",
    "    T= -pars['p']*pars['cd']*(1-pars['d'])\n",
    "    P= -pars['p']*pars['cd']\n",
    "    \n",
    "    for t in macrosteps:\n",
    "        \n",
    "        v = np.transpose(np.array([a1_vec,s1_vec]))\n",
    "        amean = np.mean(v[:,0])                       #updated mean of alpha\n",
    "        vec_a_mean = np.append(vec_a_mean, amean)   \n",
    "        x = np.mean(v[:,1])                           #updated fraction of cooperators\n",
    "        vec_x = np.append(vec_x, x)        \n",
    "        cumulative_payoffs=[]  \n",
    "        pi = np.zeros(N)\n",
    "        s1_vec=[]\n",
    "        a1_vec=[]\n",
    "        \n",
    "        for player in range(N):\n",
    "            a1,s1 = v[player]\n",
    "            \n",
    "            R= -pars['p']*pars['cd']*(1-pars['e'])*(1-pars['d'])-(1-a1)*pars['cn']\n",
    "            S= -pars['p']*pars['cd']*(1-pars['e'])-(1-a1)*pars['cn']\n",
    "            \n",
    "            pp= s1*x*(N-1)*R + s1*(1-x)*N*S + (1-s1)*x*N*T + (1-s1)*(1-x)*(N-1)*P\n",
    "            \n",
    "            cumulative_payoffs = np.append(cumulative_payoffs,pp)\n",
    "                \n",
    "        for pos1 in range(N):\n",
    "            pos2 = random.choice(list(range(0,pos1)) + list(range(pos1+1,N)))\n",
    "            a1,s1 = v[pos1]                       #alpha,strategy of player 1\n",
    "            s2 = v[pos2][1]                       #strategy of player 2\n",
    "            \n",
    "            if s1==s2: \n",
    "                s1_new = s1\n",
    "            \n",
    "            else:\n",
    "                pi_1=cumulative_payoffs[pos1]\n",
    "                pi_2=cumulative_payoffs[pos2]\n",
    "                delta_pi = pi_2-pi_1              \n",
    "                prob = 1/(1+e**(-pars['beta']*delta_pi))\n",
    "                \n",
    "                s1_new = s2 if np.random.random() < prob else s1\n",
    "            \n",
    "            a1_new = a1 + pars['gamma']*(2*x-1)*a1*(1-a1)\n",
    "            a1_new = np.clip(a1_new, 0.001, 0.999)\n",
    "                \n",
    "            s1_vec=np.append(s1_vec,s1_new)\n",
    "            a1_vec=np.append(a1_vec,a1_new)\n",
    "        \n",
    "        if np.isin(s1_vec, 0).all() or np.isin(s1_vec, 1).all():\n",
    "            break\n",
    "        \n",
    "    return v, vec_x, vec_a_mean, np.mean(s1_vec), np.mean(a1_vec)"
   ]
  },
  {
   "cell_type": "code",
   "execution_count": null,
   "metadata": {},
   "outputs": [
    {
     "name": "stderr",
     "output_type": "stream",
     "text": [
      "Progress Bar: 100%|██████████| 10000/10000 [00:04<00:00, 2335.51it/s]\n",
      "Progress Bar: 100%|██████████| 10000/10000 [00:39<00:00, 254.45it/s]\n",
      "Progress Bar: 100%|██████████| 10000/10000 [01:02<00:00, 160.71it/s]\n",
      "Progress Bar: 100%|██████████| 10000/10000 [01:18<00:00, 127.28it/s]\n",
      "Progress Bar: 100%|██████████| 10000/10000 [01:56<00:00, 86.16it/s]\n",
      "Progress Bar: 100%|██████████| 10000/10000 [01:59<00:00, 83.77it/s]\n",
      "Progress Bar: 100%|██████████| 10000/10000 [02:01<00:00, 82.07it/s]\n",
      "Progress Bar: 100%|██████████| 10000/10000 [02:08<00:00, 78.05it/s]\n",
      "Progress Bar: 100%|██████████| 10000/10000 [02:06<00:00, 79.31it/s]\n",
      "Progress Bar: 100%|██████████| 10000/10000 [01:56<00:00, 85.53it/s] \n",
      "Progress Bar: 100%|██████████| 10000/10000 [02:00<00:00, 82.80it/s]\n",
      "Progress Bar: 100%|██████████| 10000/10000 [05:50<00:00, 28.55it/s]  \n",
      "Progress Bar: 100%|██████████| 10000/10000 [02:07<00:00, 78.64it/s]\n",
      "Progress Bar: 100%|██████████| 10000/10000 [04:11<00:00, 39.77it/s]\n",
      "Progress Bar: 100%|██████████| 10000/10000 [29:42<00:00,  5.61it/s]  \n",
      "Progress Bar: 100%|██████████| 10000/10000 [02:01<00:00, 82.64it/s]\n",
      "Progress Bar: 100%|██████████| 10000/10000 [04:26<00:00, 37.54it/s]\n",
      "Progress Bar: 100%|██████████| 10000/10000 [03:44<00:00, 44.57it/s]\n",
      "Progress Bar: 100%|██████████| 10000/10000 [01:55<00:00, 86.52it/s]\n",
      "Progress Bar: 100%|██████████| 10000/10000 [00:34<00:00, 287.77it/s]\n",
      "Progress Bar: 100%|██████████| 10000/10000 [00:04<00:00, 2333.38it/s]\n"
     ]
    }
   ],
   "source": [
    "# Parameters\n",
    "pars={}         \n",
    "pars['p']=0.4\n",
    "pars['cd']=1\n",
    "pars['e']=0.9\n",
    "pars['d']=0.5\n",
    "pars['cn']=0.25\n",
    "pars['gamma']=1\n",
    "pars['beta']=0.01\n",
    "\n",
    "N=20   \n",
    "macrosteps = np.linspace(0,10000,10000)\n",
    "al = 0.5*np.ones(N)\n",
    "f425001_5_0=[]\n",
    "\n",
    "for c in range(21):\n",
    "    final_coop_vec=[]\n",
    "    \n",
    "    for i in tqdm(range(10000), desc = 'Progress Bar'):\n",
    "        n_coop=c                        #number of cooperators\n",
    "        nums = np.zeros(N)\n",
    "        nums[:n_coop] = 1\n",
    "        np.random.shuffle(nums)          #vector containing the strategies of the players (random vector of 1 and 0)\n",
    "        \n",
    "        v = np.transpose(np.array([al,nums]))\n",
    "        r = game(v,macrosteps,pars)\n",
    "        \n",
    "        final_coop_vec = np.append(final_coop_vec,r[3])\n",
    "        \n",
    "    f425001_5_0 = np.append(f425001_5_0,  final_coop_vec.mean())"
   ]
  },
  {
   "cell_type": "code",
   "execution_count": null,
   "metadata": {},
   "outputs": [
    {
     "name": "stderr",
     "output_type": "stream",
     "text": [
      "Progress Bar: 100%|█████████████████████████████████████████████████████████████| 10000/10000 [00:25<00:00, 385.34it/s]\n",
      "Progress Bar: 100%|██████████████████████████████████████████████████████████████| 10000/10000 [03:45<00:00, 44.39it/s]\n",
      "Progress Bar: 100%|██████████████████████████████████████████████████████████████| 10000/10000 [06:02<00:00, 27.55it/s]\n",
      "Progress Bar: 100%|██████████████████████████████████████████████████████████████| 10000/10000 [08:03<00:00, 20.70it/s]\n",
      "Progress Bar: 100%|██████████████████████████████████████████████████████████████| 10000/10000 [09:38<00:00, 17.29it/s]\n",
      "Progress Bar: 100%|██████████████████████████████████████████████████████████████| 10000/10000 [11:13<00:00, 14.84it/s]\n",
      "Progress Bar: 100%|██████████████████████████████████████████████████████████████| 10000/10000 [12:07<00:00, 13.75it/s]\n",
      "Progress Bar: 100%|██████████████████████████████████████████████████████████████| 10000/10000 [12:41<00:00, 13.14it/s]\n",
      "Progress Bar: 100%|██████████████████████████████████████████████████████████████| 10000/10000 [13:24<00:00, 12.43it/s]\n",
      "Progress Bar: 100%|██████████████████████████████████████████████████████████████| 10000/10000 [13:31<00:00, 12.32it/s]\n",
      "Progress Bar: 100%|██████████████████████████████████████████████████████████████| 10000/10000 [13:39<00:00, 12.20it/s]\n",
      "Progress Bar: 100%|██████████████████████████████████████████████████████████████| 10000/10000 [13:25<00:00, 12.41it/s]\n",
      "Progress Bar: 100%|██████████████████████████████████████████████████████████████| 10000/10000 [11:57<00:00, 13.94it/s]\n",
      "Progress Bar: 100%|██████████████████████████████████████████████████████████████| 10000/10000 [10:23<00:00, 16.05it/s]\n",
      "Progress Bar: 100%|██████████████████████████████████████████████████████████████| 10000/10000 [09:38<00:00, 17.29it/s]\n",
      "Progress Bar: 100%|██████████████████████████████████████████████████████████████| 10000/10000 [08:57<00:00, 18.61it/s]\n",
      "Progress Bar: 100%|██████████████████████████████████████████████████████████████| 10000/10000 [07:48<00:00, 21.32it/s]\n",
      "Progress Bar: 100%|██████████████████████████████████████████████████████████████| 10000/10000 [06:37<00:00, 25.13it/s]\n",
      "Progress Bar: 100%|██████████████████████████████████████████████████████████████| 10000/10000 [04:57<00:00, 33.61it/s]\n",
      "Progress Bar: 100%|██████████████████████████████████████████████████████████████| 10000/10000 [02:56<00:00, 56.76it/s]\n",
      "Progress Bar: 100%|█████████████████████████████████████████████████████████████| 10000/10000 [00:22<00:00, 448.49it/s]\n"
     ]
    }
   ],
   "source": [
    "# Parameters\n",
    "pars={}         \n",
    "pars['p']=0.4\n",
    "pars['cd']=1\n",
    "pars['e']=0.9\n",
    "pars['d']=0.5\n",
    "pars['cn']=0.5\n",
    "pars['gamma']=1\n",
    "pars['beta']=0.01\n",
    "\n",
    "N=20   \n",
    "macrosteps = np.linspace(0,10000,10000)\n",
    "al = 0.5*np.ones(N)\n",
    "f45001_5_0=[]\n",
    "\n",
    "for c in range(21):\n",
    "    final_coop_vec=[]\n",
    "    \n",
    "    for i in tqdm(range(10000), desc = 'Progress Bar'):\n",
    "        n_coop=c                        #number of cooperators\n",
    "        nums = np.zeros(N)\n",
    "        nums[:n_coop] = 1\n",
    "        np.random.shuffle(nums)          #vector containing the strategies of the players (random vector of 1 and 0)\n",
    "        \n",
    "        v = np.transpose(np.array([al,nums]))\n",
    "        r = game(v,macrosteps,pars)\n",
    "        \n",
    "        final_coop_vec = np.append(final_coop_vec,r[3])\n",
    "        \n",
    "    f45001_5_0 = np.append(f45001_5_0,  final_coop_vec.mean())"
   ]
  },
  {
   "cell_type": "code",
   "execution_count": null,
   "metadata": {},
   "outputs": [
    {
     "name": "stderr",
     "output_type": "stream",
     "text": [
      "Progress Bar: 100%|█████████████████████████████████████████████████████████████| 10000/10000 [00:22<00:00, 441.53it/s]\n",
      "Progress Bar: 100%|██████████████████████████████████████████████████████████████| 10000/10000 [02:37<00:00, 63.68it/s]\n",
      "Progress Bar: 100%|██████████████████████████████████████████████████████████████| 10000/10000 [04:16<00:00, 39.01it/s]\n",
      "Progress Bar: 100%|██████████████████████████████████████████████████████████████| 10000/10000 [05:43<00:00, 29.10it/s]\n",
      "Progress Bar: 100%|██████████████████████████████████████████████████████████████| 10000/10000 [07:24<00:00, 22.50it/s]\n",
      "Progress Bar: 100%|██████████████████████████████████████████████████████████████| 10000/10000 [08:13<00:00, 20.28it/s]\n",
      "Progress Bar: 100%|██████████████████████████████████████████████████████████████| 10000/10000 [08:56<00:00, 18.63it/s]\n",
      "Progress Bar: 100%|██████████████████████████████████████████████████████████████| 10000/10000 [09:27<00:00, 17.61it/s]\n",
      "Progress Bar: 100%|██████████████████████████████████████████████████████████████| 10000/10000 [12:32<00:00, 13.28it/s]\n",
      "Progress Bar: 100%|██████████████████████████████████████████████████████████████| 10000/10000 [18:57<00:00,  8.79it/s]\n",
      "Progress Bar: 100%|██████████████████████████████████████████████████████████████| 10000/10000 [18:57<00:00,  8.79it/s]\n",
      "Progress Bar: 100%|██████████████████████████████████████████████████████████████| 10000/10000 [18:21<00:00,  9.08it/s]\n",
      "Progress Bar: 100%|██████████████████████████████████████████████████████████████| 10000/10000 [18:16<00:00,  9.12it/s]\n",
      "Progress Bar: 100%|██████████████████████████████████████████████████████████████| 10000/10000 [17:25<00:00,  9.57it/s]\n",
      "Progress Bar: 100%|██████████████████████████████████████████████████████████████| 10000/10000 [16:23<00:00, 10.17it/s]\n",
      "Progress Bar: 100%|██████████████████████████████████████████████████████████████| 10000/10000 [14:59<00:00, 11.11it/s]\n",
      "Progress Bar: 100%|██████████████████████████████████████████████████████████████| 10000/10000 [13:30<00:00, 12.34it/s]\n",
      "Progress Bar: 100%|██████████████████████████████████████████████████████████████| 10000/10000 [11:06<00:00, 15.01it/s]\n",
      "Progress Bar: 100%|██████████████████████████████████████████████████████████████| 10000/10000 [08:41<00:00, 19.18it/s]\n",
      "Progress Bar: 100%|██████████████████████████████████████████████████████████████| 10000/10000 [05:10<00:00, 32.23it/s]\n",
      "Progress Bar: 100%|█████████████████████████████████████████████████████████████| 10000/10000 [00:37<00:00, 265.34it/s]\n"
     ]
    }
   ],
   "source": [
    "# Parameters\n",
    "pars={}         \n",
    "pars['p']=0.4\n",
    "pars['cd']=1\n",
    "pars['e']=0.9\n",
    "pars['d']=0.5\n",
    "pars['cn']=0.75\n",
    "pars['gamma']=1\n",
    "pars['beta']=0.01\n",
    "\n",
    "N=20   \n",
    "macrosteps = np.linspace(0,10000,10000)\n",
    "al = 0.5*np.ones(N)\n",
    "f475001_5_0=[]\n",
    "\n",
    "for c in range(21):\n",
    "    final_coop_vec=[]\n",
    "    \n",
    "    for i in tqdm(range(10000), desc = 'Progress Bar'):\n",
    "        n_coop=c                        #number of cooperators\n",
    "        nums = np.zeros(N)\n",
    "        nums[:n_coop] = 1\n",
    "        np.random.shuffle(nums)          #vector containing the strategies of the players (random vector of 1 and 0)\n",
    "        \n",
    "        v = np.transpose(np.array([al,nums]))\n",
    "        r = game(v,macrosteps,pars)\n",
    "        \n",
    "        final_coop_vec = np.append(final_coop_vec,r[3])\n",
    "        \n",
    "    f475001_5_0 = np.append(f475001_5_0,  final_coop_vec.mean())"
   ]
  },
  {
   "cell_type": "code",
   "execution_count": null,
   "metadata": {
    "collapsed": true
   },
   "outputs": [],
   "source": [
    "#np.savetxt('f425001_5_0.txt',f425001_5_0)\n",
    "#np.savetxt('f45001_5_0.txt',f45001_5_0)\n",
    "#np.savetxt('f475001_5_0.txt',f475001_5_0)"
   ]
  },
  {
   "cell_type": "code",
   "execution_count": null,
   "metadata": {},
   "outputs": [
    {
     "data": {
      "image/png": "[encoded data removed]",
      "text/plain": [
       "<Figure size 360x360 with 1 Axes>"
      ]
     },
     "metadata": {
      "needs_background": "light"
     },
     "output_type": "display_data"
    }
   ],
   "source": [
    "fig1,ax = plt.figure(figsize=(5, 5)), plt.axes()\n",
    "plt.plot(np.arange(21),f425001_5_0,linewidth=2, label='cn=0.2')\n",
    "plt.plot(np.arange(21),f45001_5_0,linewidth=2, label='cn=0.5')\n",
    "plt.plot(np.arange(21),f475001_5_0,linewidth=2, label='cn=0.75')\n",
    "plt.legend()\n",
    "plt.xlabel('Initial number of cooperators',fontsize=20)\n",
    "plt.ylabel('Fixation probability',fontsize=20)\n",
    "plt.title('beta=0.01')\n",
    "ax.tick_params(labelsize=15)\n",
    "plt.show()"
   ]
  },
  {
   "cell_type": "code",
   "execution_count": null,
   "metadata": {
    "collapsed": true
   },
   "outputs": [],
   "source": []
  }
 ],
 "metadata": {
  "kernelspec": {
   "display_name": "Python 3",
   "language": "python",
   "name": "python3"
  },
  "language_info": {
   "codemirror_mode": {
    "name": "ipython",
    "version": 3
   },
   "file_extension": ".py",
   "mimetype": "text/x-python",
   "name": "python",
   "nbconvert_exporter": "python",
   "pygments_lexer": "ipython3",
   "version": "3.13.2"
  }
 },
 "nbformat": 4,
 "nbformat_minor": 2
}
