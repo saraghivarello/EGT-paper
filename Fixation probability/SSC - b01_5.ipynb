{
 "cells": [
  {
   "cell_type": "code",
   "execution_count": 1,
   "metadata": {
    "collapsed": true
   },
   "outputs": [],
   "source": [
    "import numpy as np\n",
    "import matplotlib.pyplot as plt\n",
    "import pandas as pd\n",
    "from numpy import random as rand\n",
    "from math import e\n",
    "from tqdm import tqdm\n",
    "from scipy import integrate\n",
    "import random"
   ]
  },
  {
   "cell_type": "code",
   "execution_count": 2,
   "metadata": {
    "collapsed": true
   },
   "outputs": [],
   "source": [
    "#v is a vector cointanining N elements, each of which has two variables: α and s (s = 0 for defection, s = 1 for cooperation)\n",
    "\n",
    "def game(v,macrosteps,pars):\n",
    "                 \n",
    "    N = len(v)\n",
    "    vec_a_mean=[]           #empty vector to be filled with the mean value of alpha at each for loop\n",
    "    vec_x=[]                #empty vector to be filled with the fraction of cooperators at each for loop\n",
    "    s1_vec=v[:,1]\n",
    "    a1_vec=v[:,0]     \n",
    "    T= -pars['p']*pars['cd']*(1-pars['d'])\n",
    "    P= -pars['p']*pars['cd']\n",
    "    \n",
    "    for t in macrosteps:\n",
    "        \n",
    "        v = np.transpose(np.array([a1_vec,s1_vec]))\n",
    "        amean = np.mean(v[:,0])                       #updated mean of alpha\n",
    "        vec_a_mean = np.append(vec_a_mean, amean)   \n",
    "        x = np.mean(v[:,1])                           #updated fraction of cooperators\n",
    "        vec_x = np.append(vec_x, x)        \n",
    "        cumulative_payoffs=[]  \n",
    "        pi = np.zeros(N)\n",
    "        s1_vec=[]\n",
    "        a1_vec=[]\n",
    "        \n",
    "        for player in range(N):\n",
    "            a1,s1 = v[player]\n",
    "            \n",
    "            R= -pars['p']*pars['cd']*(1-pars['e'])*(1-pars['d'])-(1-a1)*pars['cn']\n",
    "            S= -pars['p']*pars['cd']*(1-pars['e'])-(1-a1)*pars['cn']\n",
    "            \n",
    "            pp= s1*x*(N-1)*R + s1*(1-x)*N*S + (1-s1)*x*N*T + (1-s1)*(1-x)*(N-1)*P\n",
    "            \n",
    "            cumulative_payoffs = np.append(cumulative_payoffs,pp)\n",
    "                \n",
    "        for pos1 in range(N):\n",
    "            pos2 = random.choice(list(range(0,pos1)) + list(range(pos1+1,N)))\n",
    "            a1,s1 = v[pos1]                       #alpha,strategy of player 1\n",
    "            s2 = v[pos2][1]                       #strategy of player 2\n",
    "            \n",
    "            if s1==s2: \n",
    "                s1_new = s1\n",
    "            \n",
    "            else:\n",
    "                pi_1=cumulative_payoffs[pos1]\n",
    "                pi_2=cumulative_payoffs[pos2]\n",
    "                delta_pi = pi_2-pi_1              \n",
    "                prob = 1/(1+e**(-pars['beta']*delta_pi))\n",
    "                \n",
    "                s1_new = s2 if np.random.random() < prob else s1\n",
    "            \n",
    "            a1_new = a1 + pars['gamma']*(2*x-1)*a1*(1-a1)\n",
    "            a1_new = np.clip(a1_new, 0.001, 0.999)\n",
    "                \n",
    "            s1_vec=np.append(s1_vec,s1_new)\n",
    "            a1_vec=np.append(a1_vec,a1_new)\n",
    "        \n",
    "        if np.isin(s1_vec, 0).all() or np.isin(s1_vec, 1).all():\n",
    "            break\n",
    "        \n",
    "    return v, vec_x, vec_a_mean, np.mean(s1_vec), np.mean(a1_vec)"
   ]
  },
  {
   "cell_type": "code",
   "execution_count": 9,
   "metadata": {},
   "outputs": [
    {
     "name": "stderr",
     "output_type": "stream",
     "text": [
      "Progress Bar: 100%|██████████| 10000/10000 [00:03<00:00, 2660.16it/s]\n",
      "Progress Bar: 100%|██████████| 10000/10000 [00:58<00:00, 171.53it/s]\n",
      "Progress Bar: 100%|██████████| 10000/10000 [01:46<00:00, 93.47it/s]\n",
      "Progress Bar: 100%|██████████| 10000/10000 [02:00<00:00, 82.74it/s]\n",
      "Progress Bar: 100%|██████████| 10000/10000 [02:03<00:00, 80.78it/s]\n",
      "Progress Bar: 100%|██████████| 10000/10000 [02:03<00:00, 80.91it/s]\n",
      "Progress Bar: 100%|██████████| 10000/10000 [01:50<00:00, 90.19it/s]\n",
      "Progress Bar: 100%|██████████| 10000/10000 [01:35<00:00, 104.79it/s]\n",
      "Progress Bar: 100%|██████████| 10000/10000 [01:21<00:00, 123.08it/s]\n",
      "Progress Bar: 100%|██████████| 10000/10000 [01:12<00:00, 138.82it/s]\n",
      "Progress Bar: 100%|██████████| 10000/10000 [01:06<00:00, 150.70it/s]\n",
      "Progress Bar: 100%|██████████| 10000/10000 [04:49<00:00, 34.58it/s] \n",
      "Progress Bar: 100%|██████████| 10000/10000 [00:49<00:00, 203.82it/s]\n",
      "Progress Bar: 100%|██████████| 10000/10000 [00:44<00:00, 223.53it/s]\n",
      "Progress Bar: 100%|██████████| 10000/10000 [00:46<00:00, 215.66it/s]\n",
      "Progress Bar: 100%|██████████| 10000/10000 [00:42<00:00, 236.50it/s]\n",
      "Progress Bar: 100%|██████████| 10000/10000 [01:33<00:00, 107.40it/s]\n",
      "Progress Bar: 100%|██████████| 10000/10000 [00:27<00:00, 363.14it/s]\n",
      "Progress Bar: 100%|██████████| 10000/10000 [00:46<00:00, 213.88it/s]\n",
      "Progress Bar: 100%|██████████| 10000/10000 [00:49<00:00, 200.71it/s]\n",
      "Progress Bar: 100%|██████████| 10000/10000 [00:12<00:00, 771.35it/s]\n"
     ]
    }
   ],
   "source": [
    "# Parameters\n",
    "pars={}         \n",
    "pars['p']=0.4\n",
    "pars['cd']=1\n",
    "pars['e']=0.9\n",
    "pars['d']=0.5\n",
    "pars['cn']=0.25\n",
    "pars['gamma']=1\n",
    "pars['beta']=0.1\n",
    "\n",
    "N=20   \n",
    "macrosteps = np.linspace(0,10000,10000)\n",
    "al = 0.5*np.ones(N)\n",
    "f42501_5_0=[]\n",
    "\n",
    "for c in range(21):\n",
    "    final_coop_vec=[]\n",
    "    \n",
    "    for i in tqdm(range(10000), desc = 'Progress Bar'):\n",
    "        n_coop=c                        #number of cooperators\n",
    "        nums = np.zeros(N)\n",
    "        nums[:n_coop] = 1\n",
    "        np.random.shuffle(nums)          #vector containing the strategies of the players (random vector of 1 and 0)\n",
    "        \n",
    "        v = np.transpose(np.array([al,nums]))\n",
    "        r = game(v,macrosteps,pars)\n",
    "        \n",
    "        final_coop_vec = np.append(final_coop_vec,r[3])\n",
    "        \n",
    "    f42501_5_0 = np.append(f42501_5_0,  final_coop_vec.mean())"
   ]
  },
  {
   "cell_type": "code",
   "execution_count": null,
   "metadata": {},
   "outputs": [],
   "source": [
    "# Parameters\n",
    "pars={}         \n",
    "pars['p']=0.4\n",
    "pars['cd']=1\n",
    "pars['e']=0.9\n",
    "pars['d']=0.5\n",
    "pars['cn']=0.5\n",
    "pars['gamma']=1\n",
    "pars['beta']=0.1\n",
    "\n",
    "N=20   \n",
    "macrosteps = np.linspace(0,10000,10000)\n",
    "al = 0.5*np.ones(N)\n",
    "f4501_5_0=[]\n",
    "\n",
    "for c in range(21):\n",
    "    final_coop_vec=[]\n",
    "    \n",
    "    for i in tqdm(range(10000), desc = 'Progress Bar'):\n",
    "        n_coop=c                        #number of cooperators\n",
    "        nums = np.zeros(N)\n",
    "        nums[:n_coop] = 1\n",
    "        np.random.shuffle(nums)          #vector containing the strategies of the players (random vector of 1 and 0)\n",
    "        \n",
    "        v = np.transpose(np.array([al,nums]))\n",
    "        r = game(v,macrosteps,pars)\n",
    "        \n",
    "        final_coop_vec = np.append(final_coop_vec,r[3])\n",
    "        \n",
    "    f4501_5_0 = np.append(f4501_5_0,  final_coop_vec.mean())"
   ]
  },
  {
   "cell_type": "code",
   "execution_count": null,
   "metadata": {},
   "outputs": [],
   "source": [
    "# Parameters\n",
    "pars={}         \n",
    "pars['p']=0.4\n",
    "pars['cd']=1\n",
    "pars['e']=0.9\n",
    "pars['d']=0.5\n",
    "pars['cn']=0.75\n",
    "pars['gamma']=1\n",
    "pars['beta']=0.1\n",
    "\n",
    "N=20   \n",
    "macrosteps = np.linspace(0,10000,10000)\n",
    "al = 0.5*np.ones(N)\n",
    "f47501_5_0=[]\n",
    "\n",
    "for c in range(21):\n",
    "    final_coop_vec=[]\n",
    "    \n",
    "    for i in tqdm(range(10000), desc = 'Progress Bar'):\n",
    "        n_coop=c                        #number of cooperators\n",
    "        nums = np.zeros(N)\n",
    "        nums[:n_coop] = 1\n",
    "        np.random.shuffle(nums)          #vector containing the strategies of the players (random vector of 1 and 0)\n",
    "        \n",
    "        v = np.transpose(np.array([al,nums]))\n",
    "        r = game(v,macrosteps,pars)\n",
    "        \n",
    "        final_coop_vec = np.append(final_coop_vec,r[3])\n",
    "        \n",
    "    f47501_5_0 = np.append(f47501_5_0,  final_coop_vec.mean())"
   ]
  },
  {
   "cell_type": "code",
   "execution_count": 13,
   "metadata": {},
   "outputs": [
    {
     "data": {
      "text/plain": [
       "array([0.    , 0.1709, 0.3112, 0.4302, 0.5322, 0.6334, 0.7184, 0.8012,\n",
       "       0.8596, 0.9071, 0.9473, 0.9665, 0.9818, 0.9927, 0.996 , 0.9982,\n",
       "       0.9995, 1.    , 0.9999, 1.    , 1.    ])"
      ]
     },
     "execution_count": 13,
     "metadata": {},
     "output_type": "execute_result"
    }
   ],
   "source": [
    "f42501_5_0"
   ]
  },
  {
   "cell_type": "code",
   "execution_count": 14,
   "metadata": {
    "collapsed": true
   },
   "outputs": [],
   "source": [
    "np.savetxt('f42501_5_0.txt',f42501_5_0)\n",
    "#np.savetxt('f4501_5_0.txt',f4501_5_0)\n",
    "#np.savetxt('f47501_5_0.txt',f47501_5_0)"
   ]
  },
  {
   "cell_type": "code",
   "execution_count": null,
   "metadata": {},
   "outputs": [],
   "source": [
    "fig1,ax = plt.figure(figsize=(5, 5)), plt.axes()\n",
    "plt.plot(np.arange(21),f42501_5_0,marker='o',linewidth=2, label='cn=0.2')\n",
    "plt.plot(np.arange(21),f4501_5_0,marker='o',linewidth=2, label='cn=0.5')\n",
    "plt.plot(np.arange(21),f47501_5_0,marker='o',linewidth=2, label='cn=0.75')\n",
    "plt.legend()\n",
    "plt.xlabel('Initial number of cooperators',fontsize=20)\n",
    "plt.ylabel('Fixation probability',fontsize=20)\n",
    "plt.title('beta=0.1')\n",
    "ax.tick_params(labelsize=15)\n",
    "plt.show()"
   ]
  },
  {
   "cell_type": "code",
   "execution_count": null,
   "metadata": {
    "collapsed": true
   },
   "outputs": [],
   "source": []
  }
 ],
 "metadata": {
  "kernelspec": {
   "display_name": "Python 3",
   "language": "python",
   "name": "python3"
  },
  "language_info": {
   "codemirror_mode": {
    "name": "ipython",
    "version": 3
   },
   "file_extension": ".py",
   "mimetype": "text/x-python",
   "name": "python",
   "nbconvert_exporter": "python",
   "pygments_lexer": "ipython3",
   "version": "3.13.2"
  }
 },
 "nbformat": 4,
 "nbformat_minor": 2
}
